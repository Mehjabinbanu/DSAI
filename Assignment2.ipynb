{
 "cells": [
  {
   "cell_type": "markdown",
   "metadata": {},
   "source": [
    "# 1.Modify the first item (22) of a list inside a following tuple to222\n",
    "#tuple1 = (11, [22, 33], 44, 55)\n",
    "#Expected output:\n",
    "#tuple1 = (11, [222, 33], 44, 55)\n",
    "\n"
   ]
  },
  {
   "cell_type": "code",
   "execution_count": 14,
   "metadata": {},
   "outputs": [
    {
     "name": "stdout",
     "output_type": "stream",
     "text": [
      "tuple1 =  (11, [222, 33], 44, 55)\n"
     ]
    }
   ],
   "source": [
    "tuple1=(11,[22,33],44,55)\n",
    "tuple1[1].remove(22)\n",
    "tuple1[1].insert(0,222)\n",
    "print(\"tuple1 = \",tuple1)"
   ]
  },
  {
   "cell_type": "markdown",
   "metadata": {},
   "source": [
    "# 2. Count the number of occurrences of item 50 from a tuple\n",
    "tuple1 = (50, 10, 60, 70, 50)"
   ]
  },
  {
   "cell_type": "code",
   "execution_count": 20,
   "metadata": {},
   "outputs": [
    {
     "name": "stdout",
     "output_type": "stream",
     "text": [
      "The number of occurrences of item 50 in the given tuple= 2\n"
     ]
    }
   ],
   "source": [
    "tuple1=(50,10,60,70,50)\n",
    "def countX(tup, x): \n",
    "    count = 0\n",
    "    for i in tup: \n",
    "        if (i == x): \n",
    "            count = count + 1\n",
    "    return count \n",
    "   \n",
    "tuple1=(50,10,60,70,50)\n",
    "n= 50\n",
    "print(\"The number of occurrences of item 50 in the given tuple=\",countX(tuple1, n))"
   ]
  },
  {
   "cell_type": "markdown",
   "metadata": {},
   "source": [
    "# 3. Write a Python program to convert a list to a tuple"
   ]
  },
  {
   "cell_type": "code",
   "execution_count": 21,
   "metadata": {},
   "outputs": [
    {
     "name": "stdout",
     "output_type": "stream",
     "text": [
      "Tuple of the given list= (1, 2, 3, 4)\n"
     ]
    }
   ],
   "source": [
    "def convert(list): \n",
    "    return tuple(i for i in list) \n",
    "  \n",
    "list = [1, 2, 3, 4] \n",
    "print(\"Tuple of the given list=\",convert(list)) "
   ]
  },
  {
   "cell_type": "markdown",
   "metadata": {},
   "source": [
    "# 4. Returns a new set with all items from both sets by removing duplicates\n",
    "#set1 = {10, 20, 30, 40, 50}\n",
    "#set2 = {30, 40, 50, 60, 70}"
   ]
  },
  {
   "cell_type": "code",
   "execution_count": 24,
   "metadata": {},
   "outputs": [
    {
     "name": "stdout",
     "output_type": "stream",
     "text": [
      "New set= [10, 20, 30, 40, 50, 60, 70]\n"
     ]
    }
   ],
   "source": [
    "def setwithoutdup(set1, set2): \n",
    "    final_set = sorted(set1|set2) \n",
    "    return final_set\n",
    "  \n",
    "set1={10,20,30,40,50}\n",
    "set2={30,40,50,60,70}\n",
    "print(\"New set=\",setwithoutdup(set1,set2))"
   ]
  },
  {
   "cell_type": "markdown",
   "metadata": {},
   "source": [
    "# 5. Merge following two Python dictionaries into one\n",
    "#dict1 = {'Ten': 10, 'Twenty': 20, 'Thirty': 30}\n",
    "#dict2 = {'Thirty': 30, 'Fourty': 40, 'Fifty': 50}\n",
    "#Expected output:\n",
    "#{'Ten': 10, 'Twenty': 20, 'Thirty': 30, 'Fourty': 40, 'Fifty': 50}"
   ]
  },
  {
   "cell_type": "code",
   "execution_count": 1,
   "metadata": {},
   "outputs": [
    {
     "name": "stdout",
     "output_type": "stream",
     "text": [
      "Merged dictionary= {'Ten': 10, 'Twenty': 20, 'Thirty': 30, 'Fourty': 40, 'Fifty': 50}\n"
     ]
    }
   ],
   "source": [
    "dict1 = {'Ten': 10, 'Twenty': 20, 'Thirty': 30}\n",
    "dict2 = {'Thirty': 30, 'Fourty': 40, 'Fifty': 50}\n",
    "dict3=dict1.copy()\n",
    "dict3.update(dict2)\n",
    "print(\"Merged dictionary=\",dict3)"
   ]
  },
  {
   "cell_type": "markdown",
   "metadata": {},
   "source": [
    "# 6.Given a Python dictionary, Change Brad’s salary to 8500\n",
    "#sampleDict = {\n",
    " 'emp1': {'name': 'Jhon', 'salary': 7500},\n",
    " 'emp2': {'name': 'Emma', 'salary': 8000},\n",
    " 'emp3': {'name': 'Brad', 'salary': 6500}\n",
    "}\n",
    "#Expected output:\n",
    "sampleDict = {\n",
    " 'emp1': {'name': 'Jhon', 'salary': 7500},\n",
    " 'emp2': {'name': 'Emma', 'salary': 8000},\n",
    " 'emp3': {'name': 'Brad', 'salary': 8500}\n",
    "}\n"
   ]
  },
  {
   "cell_type": "code",
   "execution_count": 4,
   "metadata": {},
   "outputs": [
    {
     "name": "stdout",
     "output_type": "stream",
     "text": [
      "sampleDict= {'emp1': {'name': 'Jhon', 'salary': 7500}, 'emp2': {'name': 'Emma', 'salary': 8000}, 'emp3': {'name': 'Brad', 'salary': 8500}}\n"
     ]
    }
   ],
   "source": [
    "sampleDict = {\n",
    " 'emp1': {'name': 'Jhon', 'salary': 7500},\n",
    " 'emp2': {'name': 'Emma', 'salary': 8000},\n",
    " 'emp3': {'name': 'Brad', 'salary': 6500}\n",
    "}\n",
    "\n",
    "sampleDict['emp3']['salary']=8500\n",
    "print(\"sampleDict=\",sampleDict)"
   ]
  },
  {
   "cell_type": "markdown",
   "metadata": {},
   "source": [
    "# 7. Rename key city to location in the following dictionary\n",
    "#sampleDict = {\n",
    " \"name\": \"Kelly\",\n",
    " \"age\":25,\n",
    " \"salary\": 8000,\n",
    " \"city\": \"New york\"\n",
    "}\n",
    "#Expected output:\n",
    "{\n",
    " \"name\": \"Kelly\",\n",
    " \"age\":25,\n",
    " \"salary\": 8000,\n",
    " \"location\": \"New york\"\n",
    "}"
   ]
  },
  {
   "cell_type": "code",
   "execution_count": 6,
   "metadata": {},
   "outputs": [
    {
     "name": "stdout",
     "output_type": "stream",
     "text": [
      "sampleDict= {'name': 'Kelly', 'age': 25, 'salary': 8000, 'location': 'New york'}\n"
     ]
    }
   ],
   "source": [
    "sampleDict = { \"name\": \"Kelly\", \"age\":25, \"salary\": 8000, \"city\": \"New york\" }\n",
    "sampleDict['location']=sampleDict.pop('city')\n",
    "print(\"sampleDict=\",sampleDict)"
   ]
  }
 ],
 "metadata": {
  "kernelspec": {
   "display_name": "Python 3",
   "language": "python",
   "name": "python3"
  },
  "language_info": {
   "codemirror_mode": {
    "name": "ipython",
    "version": 3
   },
   "file_extension": ".py",
   "mimetype": "text/x-python",
   "name": "python",
   "nbconvert_exporter": "python",
   "pygments_lexer": "ipython3",
   "version": "3.8.3"
  }
 },
 "nbformat": 4,
 "nbformat_minor": 4
}
