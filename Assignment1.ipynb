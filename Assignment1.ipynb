{
 "cells": [
  {
   "cell_type": "code",
   "execution_count": 55,
   "metadata": {},
   "outputs": [
    {
     "name": "stdout",
     "output_type": "stream",
     "text": [
      "Enter a string of odd length(minimum of 9 characters):mehajabinbanu\n",
      "middle three characters are  abi\n"
     ]
    }
   ],
   "source": [
    "# Q1.Input a string of odd length (minimum 9 characters), print a string made of the middle characters from input string.(eg :- if input is abcdefghi, answer should be def)\n",
    "\n",
    "mystr=input(\"Enter a string of odd length(minimum of 9 characters):\")\n",
    "n=int(len(mystr)/2)\n",
    "midstr=mystr[n-1:n+2]\n",
    "print(\"middle three characters are \",midstr)"
   ]
  },
  {
   "cell_type": "code",
   "execution_count": 2,
   "metadata": {},
   "outputs": [
    {
     "name": "stdout",
     "output_type": "stream",
     "text": [
      "enter a number:10\n",
      "Sum of first  10  natural numbers =  55\n",
      "Average of first  10  natural numbers =  5.5\n"
     ]
    }
   ],
   "source": [
    "#Q2.Calculate the sum and average of first n natural numbers\n",
    "#        a. using for loop\n",
    "#        b. using while loop\n",
    "\n",
    "#a.using for loops\n",
    "\n",
    "n=int(input(\"enter a number:\"))\n",
    "sum=0\n",
    "for i in range(1,n+1):\n",
    "    sum=sum+i\n",
    "avg=sum/n\n",
    "print(\"Sum of first \",n,\" natural numbers = \",sum)\n",
    "print(\"Average of first \",n,\" natural numbers = \",avg)"
   ]
  },
  {
   "cell_type": "code",
   "execution_count": 4,
   "metadata": {},
   "outputs": [
    {
     "name": "stdout",
     "output_type": "stream",
     "text": [
      "enter a number:10\n",
      "Sum of first  10  natural numbers =  55\n",
      "Average of first  10  natural numbers =  5.5\n"
     ]
    }
   ],
   "source": [
    "#Q2.b.using while loop\n",
    "\n",
    "n=int(input(\"enter a number:\"))\n",
    "i,sum=1,0\n",
    "while i<=n:\n",
    "    sum=sum+i\n",
    "    i=i+1\n",
    "avg=sum/n\n",
    "print(\"Sum of first \",n,\" natural numbers = \",sum)\n",
    "print(\"Average of first \",n,\" natural numbers = \",avg)"
   ]
  },
  {
   "cell_type": "code",
   "execution_count": 3,
   "metadata": {},
   "outputs": [
    {
     "name": "stdout",
     "output_type": "stream",
     "text": [
      "enter the number:1.2\n",
      "enter the number:3.4\n",
      "enter the number:4\n",
      "enter the number:5.6\n",
      "enter the number:6.7\n",
      "list =  [1.2, 3.4, 4.0, 5.6, 6.7]\n"
     ]
    }
   ],
   "source": [
    "#Q3.Accept list of 5 float numbers as input from user using loop and store values in a list\n",
    "\n",
    "lst=[]\n",
    "for i in range(0,5):\n",
    "    m=float(input(\"enter the number:\"))\n",
    "    lst.append(m)\n",
    "print(\"list = \",lst)"
   ]
  },
  {
   "cell_type": "code",
   "execution_count": 6,
   "metadata": {},
   "outputs": [
    {
     "name": "stdout",
     "output_type": "stream",
     "text": [
      "1  \n",
      "1 2  \n",
      "1 2 3  \n",
      "1 2 3 4  \n",
      "1 2 3 4 5  \n"
     ]
    }
   ],
   "source": [
    "#Q4.Print the following pattern\n",
    "#      a.1                                or                  b.5 4 3 2 1\n",
    "#        1 2                                                    4 3 2 1\n",
    "#        1 2 3                                                  3 2 1\n",
    "#        1 2 3 4                                                2 1\n",
    "#        1 2 3 4 5                                              1\n",
    "\n",
    "#Q4.a)\n",
    "\n",
    "for i in range(1,6):\n",
    "    for j in range(1,i+1):\n",
    "        print(j,end=\" \")\n",
    "    print(\" \")"
   ]
  },
  {
   "cell_type": "code",
   "execution_count": 4,
   "metadata": {},
   "outputs": [
    {
     "name": "stdout",
     "output_type": "stream",
     "text": [
      "5 4 3 2 1  \n",
      "4 3 2 1  \n",
      "3 2 1  \n",
      "2 1  \n",
      "1  \n",
      " \n",
      " \n"
     ]
    }
   ],
   "source": [
    "#Q4.b)\n",
    "\n",
    "for i in range(6,-1,-1):\n",
    "    for j in range(i-1,0,-1):\n",
    "        print(j,end=\" \")\n",
    "    print(\" \")"
   ]
  },
  {
   "cell_type": "code",
   "execution_count": 13,
   "metadata": {},
   "outputs": [
    {
     "name": "stdout",
     "output_type": "stream",
     "text": [
      "Enter a number:1234589\n",
      "total number of digit= 7\n"
     ]
    }
   ],
   "source": [
    "#Q5.input a number, count and print the total number of digits in that number using while loop\n",
    "\n",
    "num=int(input(\"Enter a number:\"))\n",
    "count=0\n",
    "while (num!=0):\n",
    "    num=num//10\n",
    "    count=count+1\n",
    "print(\"total number of digit=\",count)"
   ]
  },
  {
   "cell_type": "code",
   "execution_count": 5,
   "metadata": {},
   "outputs": [
    {
     "name": "stdout",
     "output_type": "stream",
     "text": [
      "the new list is  [6, 12, 18, 4, 12, 20, 28]\n"
     ]
    }
   ],
   "source": [
    "#Q6.Given two lists. Create a third list by picking an odd-index element from the first list and even index elements from second.\n",
    "#             listOne = [3, 6, 9, 12, 15, 18, 21]\n",
    "#             listTwo = [4, 8, 12, 16, 20, 24, 28]\n",
    "\n",
    "list1=[3, 6, 9, 12, 15, 18, 21]\n",
    "list2=[4, 8, 12, 16, 20, 24, 28]\n",
    "list3=[]\n",
    "n=list1[1::2]\n",
    "m=list2[::2]\n",
    "list3=n+m\n",
    "print(\"the new list is \",list3)"
   ]
  },
  {
   "cell_type": "code",
   "execution_count": 10,
   "metadata": {},
   "outputs": [
    {
     "name": "stdout",
     "output_type": "stream",
     "text": [
      "enter the number of elements in the list6\n",
      "enter the element:90\n",
      "enter the element:56\n",
      "enter the element:300\n",
      "enter the element:23\n",
      "enter the element:4\n",
      "enter the element:23\n",
      "The list is : [90, 56, 300, 23, 4, 23]\n",
      "the smallest element in the list= 4\n"
     ]
    }
   ],
   "source": [
    "#Q7.program to get the smallest number from a list.\n",
    "\n",
    "n=int(input(\"enter the number of elements in the list\"))\n",
    "lst=[]\n",
    "for i in range(0,n):\n",
    "    m=int(input(\"enter the element:\"))\n",
    "    lst.append(m)\n",
    "print(\"The list is :\",lst)\n",
    "s=lst[0]\n",
    "for j in lst:\n",
    "    if (j<s):\n",
    "        s=j\n",
    "print(\"the smallest element in the list=\",s)"
   ]
  },
  {
   "cell_type": "code",
   "execution_count": 36,
   "metadata": {},
   "outputs": [
    {
     "name": "stdout",
     "output_type": "stream",
     "text": [
      "The reversed list is [50, 4, 30, 20, 10]\n"
     ]
    }
   ],
   "source": [
    "#Q8.Reverse the following list using for loop and range [ do not use reverse or reversed like functions]\n",
    "#            list1 = [10, 20, 30, 4, 50]\n",
    "\n",
    "list1=[10,20,30,4,50]\n",
    "n=len(list1)\n",
    "list2=[]\n",
    "for i in range(n-1,-1,-1):\n",
    "    list2.append(list1[i])\n",
    "print(\"The reversed list is\",list2)\n",
    "\n"
   ]
  }
 ],
 "metadata": {
  "kernelspec": {
   "display_name": "Python 3",
   "language": "python",
   "name": "python3"
  },
  "language_info": {
   "codemirror_mode": {
    "name": "ipython",
    "version": 3
   },
   "file_extension": ".py",
   "mimetype": "text/x-python",
   "name": "python",
   "nbconvert_exporter": "python",
   "pygments_lexer": "ipython3",
   "version": "3.8.3"
  }
 },
 "nbformat": 4,
 "nbformat_minor": 4
}
