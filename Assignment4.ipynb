{
 "cells": [
  {
   "cell_type": "markdown",
   "metadata": {},
   "source": [
    "# 1. create a txt file, enter multiple lines of text. read this file line by line and store it into a list. Apply exception handling technique"
   ]
  },
  {
   "cell_type": "code",
   "execution_count": 2,
   "metadata": {},
   "outputs": [
    {
     "name": "stdout",
     "output_type": "stream",
     "text": [
      "Overwriting test00.txt\n"
     ]
    }
   ],
   "source": [
    "%%writefile test00.txt\n",
    "This is a text file\n",
    "This is line 1\n",
    "This is Line 2"
   ]
  },
  {
   "cell_type": "code",
   "execution_count": 33,
   "metadata": {},
   "outputs": [
    {
     "name": "stdout",
     "output_type": "stream",
     "text": [
      "['This is a text file\\n', 'This is line 1\\n', 'This is Line 2\\n']\n",
      "Successfully completed\n"
     ]
    }
   ],
   "source": [
    "try:\n",
    "    myfile=open(\"test00.txt\")\n",
    "except:\n",
    "    print(\"Some problems are occurred\")\n",
    "else:    \n",
    "    lst=[]\n",
    "    for i in myfile:\n",
    "        lst.append(i)\n",
    "    myfile.close()\n",
    "    print(lst)\n",
    "finally:\n",
    "    print(\"Successfully completed\")"
   ]
  },
  {
   "cell_type": "markdown",
   "metadata": {},
   "source": [
    "# 2. Write a Python program to write below list content to a file. Apply exception handling technique\n",
    "color = ['Red', 'Green', 'White', 'Black', 'Pink', 'Yellow']"
   ]
  },
  {
   "cell_type": "code",
   "execution_count": 35,
   "metadata": {},
   "outputs": [
    {
     "name": "stdout",
     "output_type": "stream",
     "text": [
      "Red\n",
      "Green\n",
      "White\n",
      "Black\n",
      "Pink\n",
      "Yellow\n",
      "\n",
      "Successfully completed\n"
     ]
    }
   ],
   "source": [
    "color = ['Red', 'Green', 'White', 'Black', 'Pink', 'Yellow']\n",
    "try:\n",
    "    myfile=open('output.txt','w+')\n",
    "except:\n",
    "    print(\"Some problems are occurred\")\n",
    "else:\n",
    "    for i in color:\n",
    "        myfile.write(i)\n",
    "        myfile.write('\\n') \n",
    "    myfile.seek(0)\n",
    "    print(myfile.read())\n",
    "finally:\n",
    "     print(\"Successfully completed\")"
   ]
  },
  {
   "cell_type": "markdown",
   "metadata": {},
   "source": [
    "# 3.  create a txt file, enter multiple lines of text. remove newline characters from created file and print as a list. Apply exception handling techniques wherever possible"
   ]
  },
  {
   "cell_type": "code",
   "execution_count": 24,
   "metadata": {},
   "outputs": [
    {
     "name": "stdout",
     "output_type": "stream",
     "text": [
      "Writing testfile0.txt\n"
     ]
    }
   ],
   "source": [
    "%%writefile testfile0.txt\n",
    "Line 1\n",
    "Line 2\n",
    "Line 3\n",
    "Line 4"
   ]
  },
  {
   "cell_type": "code",
   "execution_count": 36,
   "metadata": {},
   "outputs": [
    {
     "name": "stdout",
     "output_type": "stream",
     "text": [
      "['Line 1 ', 'Line 2 ', 'Line 3 ', 'Line 4 ']\n",
      "Successfully completed\n"
     ]
    }
   ],
   "source": [
    "try:\n",
    "    myfile=open(\"testfile0.txt\")\n",
    "except:\n",
    "    print(\"Some problems are occurred\")\n",
    "else:\n",
    "    lst=[]\n",
    "    for i in myfile:\n",
    "        lst.append(i.replace(\"\\n\",\" \"))\n",
    "    myfile.close()\n",
    "    print(lst)\n",
    "finally:\n",
    "     print(\"Successfully completed\")"
   ]
  },
  {
   "cell_type": "markdown",
   "metadata": {},
   "source": [
    "# 4. create a testfile1.txt file, enter multiple lines of text . Now copy contents of testfile1.txt to new file testfile22.txt. Apply exception handling techniques wherever possible"
   ]
  },
  {
   "cell_type": "code",
   "execution_count": 31,
   "metadata": {},
   "outputs": [
    {
     "name": "stdout",
     "output_type": "stream",
     "text": [
      "Writing testfile1.txt\n"
     ]
    }
   ],
   "source": [
    "%%writefile testfile1.txt\n",
    "This is Line1\n",
    "This is Line2\n",
    "This is Line3"
   ]
  },
  {
   "cell_type": "code",
   "execution_count": 41,
   "metadata": {},
   "outputs": [
    {
     "name": "stdout",
     "output_type": "stream",
     "text": [
      "This is Line1\n",
      "This is Line2\n",
      "This is Line3\n",
      "\n",
      "Successfully completed\n"
     ]
    }
   ],
   "source": [
    "try:\n",
    "    myfile1=open('testfile1.txt')\n",
    "    myfile1.seek(0)\n",
    "    f1=myfile1.read()\n",
    "except:\n",
    "    print(\"Some problems are occurred\")\n",
    "else:\n",
    "    myfile2=open('testfile2.txt','w+')\n",
    "    myfile2.write(f1)\n",
    "    myfile2.seek(0)\n",
    "    print(myfile2.read())\n",
    "finally:\n",
    "    print(\"Successfully completed\")"
   ]
  }
 ],
 "metadata": {
  "kernelspec": {
   "display_name": "Python 3",
   "language": "python",
   "name": "python3"
  },
  "language_info": {
   "codemirror_mode": {
    "name": "ipython",
    "version": 3
   },
   "file_extension": ".py",
   "mimetype": "text/x-python",
   "name": "python",
   "nbconvert_exporter": "python",
   "pygments_lexer": "ipython3",
   "version": "3.8.3"
  }
 },
 "nbformat": 4,
 "nbformat_minor": 4
}
