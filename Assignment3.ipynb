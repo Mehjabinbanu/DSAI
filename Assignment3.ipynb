{
 "cells": [
  {
   "cell_type": "markdown",
   "metadata": {},
   "source": [
    "# 1.Write a function calculation() such that it can accept two variables as arguments and calculate the addition and subtraction of it. And also it must return both addition and subtraction in a single return call"
   ]
  },
  {
   "cell_type": "code",
   "execution_count": 6,
   "metadata": {},
   "outputs": [
    {
     "name": "stdout",
     "output_type": "stream",
     "text": [
      "enter a number:80\n",
      "enter a number:20\n",
      "sum of  80  and  20 = 100\n",
      "difference of  80  and  20 = 60\n"
     ]
    }
   ],
   "source": [
    "def calculation(x,y):\n",
    "    return x+y,x-y\n",
    "\n",
    "a=int(input(\"enter a number:\"))\n",
    "b=int(input(\"enter a number:\"))\n",
    "sum1,difference=calculation(a,b)\n",
    "print(\"sum of \",a,\" and \",b,\"=\",sum1)\n",
    "print(\"difference of \",a,\" and \",b,\"=\",difference)"
   ]
  },
  {
   "cell_type": "markdown",
   "metadata": {},
   "source": [
    "# 2. Create a function showEmployee() in such a way that it should accept employee name, and it’s salary and display both, and if the salary is missing in function call it should show it as 9000"
   ]
  },
  {
   "cell_type": "code",
   "execution_count": 16,
   "metadata": {},
   "outputs": [
    {
     "name": "stdout",
     "output_type": "stream",
     "text": [
      "Enter the employee name:John\n",
      "Employee name is  John  and salary is  9000\n",
      "Employee name is  John  and salary is  9000\n"
     ]
    }
   ],
   "source": [
    "def showEmployee(empname,salary=9000):\n",
    "    print(\"Employee name is \",empname,\" and salary is \",salary)\n",
    "\n",
    "name=input(\"Enter the employee name:\")\n",
    "showEmployee(name,9000)\n",
    "showEmployee(name)"
   ]
  },
  {
   "cell_type": "markdown",
   "metadata": {},
   "source": [
    "# 3.Write a function called multipleLetterCount. This function takes in one parameter (a string) and returns a dictionary with the keys being the letters and the value being the count of the letter.\n",
    "# Example output:\n",
    "# multipleLetterCount('awesome') "
   ]
  },
  {
   "cell_type": "code",
   "execution_count": 18,
   "metadata": {},
   "outputs": [
    {
     "name": "stdout",
     "output_type": "stream",
     "text": [
      "Enter a string:awesome\n",
      "Dictionary :  {'a': 1, 'w': 1, 'e': 2, 's': 1, 'o': 1, 'm': 1}\n"
     ]
    }
   ],
   "source": [
    "def multipleLetterCount(str1):\n",
    "    dict1={}\n",
    "    for i in str1:\n",
    "        dict1[i]=str1.count(i)\n",
    "    return dict1\n",
    "str1=input(\"Enter a string:\")\n",
    "print(\"Dictionary : \",multipleLetterCount(str1))"
   ]
  }
 ],
 "metadata": {
  "kernelspec": {
   "display_name": "Python 3",
   "language": "python",
   "name": "python3"
  },
  "language_info": {
   "codemirror_mode": {
    "name": "ipython",
    "version": 3
   },
   "file_extension": ".py",
   "mimetype": "text/x-python",
   "name": "python",
   "nbconvert_exporter": "python",
   "pygments_lexer": "ipython3",
   "version": "3.8.3"
  }
 },
 "nbformat": 4,
 "nbformat_minor": 4
}
